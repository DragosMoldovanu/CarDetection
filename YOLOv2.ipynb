{
 "cells": [
  {
   "cell_type": "code",
   "execution_count": 8,
   "id": "another-atlas",
   "metadata": {},
   "outputs": [],
   "source": [
    "from keras.models import Sequential, Model\n",
    "from keras.layers import Reshape, Activation, Conv2D, Input, MaxPooling2D, BatchNormalization, Flatten, Dense, Lambda\n",
    "from keras.layers.advanced_activations import LeakyReLU\n",
    "from keras.callbacks import EarlyStopping, ModelCheckpoint, TensorBoard\n",
    "from keras.optimizers import SGD, Adam, RMSprop\n",
    "from keras.layers.merge import concatenate\n",
    "import matplotlib.pyplot as plt\n",
    "import keras.backend as K\n",
    "import tensorflow as tf\n",
    "import imgaug as ia\n",
    "from tqdm import tqdm\n",
    "from imgaug import augmenters as iaa\n",
    "import numpy as np\n",
    "import pickle\n",
    "import os, cv2"
   ]
  },
  {
   "cell_type": "code",
   "execution_count": 9,
   "id": "specialized-fellowship",
   "metadata": {},
   "outputs": [],
   "source": [
    "LABELS = ['Car', 'Van', 'Truck', 'Pedestrian', 'Person_sitting',\n",
    "          'Cyclist', 'Tram', 'Misc', 'DontCare']"
   ]
  },
  {
   "cell_type": "code",
   "execution_count": null,
   "id": "assisted-soccer",
   "metadata": {},
   "outputs": [],
   "source": [
    "wt_path = '/Datset/yolov3.weights'\n",
    "train_image_folder = '/Dataset/image_2'\n",
    "train_annot_folder = '/Dataset/label_2'\n",
    "valid_image_folder = '/Dataset/image_2_test'\n"
   ]
  }
 ],
 "metadata": {
  "kernelspec": {
   "display_name": "Python 3",
   "language": "python",
   "name": "python3"
  },
  "language_info": {
   "codemirror_mode": {
    "name": "ipython",
    "version": 3
   },
   "file_extension": ".py",
   "mimetype": "text/x-python",
   "name": "python",
   "nbconvert_exporter": "python",
   "pygments_lexer": "ipython3",
   "version": "3.8.5"
  }
 },
 "nbformat": 4,
 "nbformat_minor": 5
}
